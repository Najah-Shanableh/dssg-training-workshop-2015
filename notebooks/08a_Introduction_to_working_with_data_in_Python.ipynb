{
 "cells": [
  {
   "cell_type": "markdown",
   "metadata": {},
   "source": [
    "#Introduction to Working with Data in Python: Cleaning and Munging\n",
    "\n",
    "###Goals\n",
    "\n",
    "- Become familiar with basic tools and methods for data munging and cleaning in Python\n",
    "\n",
    "Tasks\n",
    "\n",
    "- Learn a little history of Python & iPython\n",
    "- Start an iPython Notebook server, create an notebook and navigate around the notebook \n",
    "- Load data from a csv into a pandas dataframe \n",
    "- Write a function that changes column names to snake_case\n",
    "- Remove missing values\n",
    "- Fill missing values with an interpolation\n",
    " "
   ]
  },
  {
   "cell_type": "markdown",
   "metadata": {},
   "source": [
    "#Background on Python, iPython, and Pandas\n",
    "\n",
    "[Python](https://www.python.org/) is a high-level general purpose programming language named after a [British comedy troup](https://www.youtube.com/user/MontyPython), created by a [Dutch benevolent dictator](http://en.wikipedia.org/wiki/Guido_van_Rossum) and maintained by an international group of fiendly but opinionated python enthusiasts (`import this!`). \n",
    "\n",
    "It's popular for data science because it's powerful, fast, plays well with others, runs everywhere, is easy to learn, highly readable, and open. Because it's general purpose it can be used for full-stack development. It's got a growing list of useful libraries for scientitic programming, data manipulation, data analysis. (Numpy, Scipy, Pandas, Scikit-Learn, Statsmodels, Matplotlib, Pybrain, etc.)\n",
    "\n",
    "[iPython](http://ipython.org/) is an enhanced, interactive python interpreter started as a grad school project by [Fernando Perez](http://fperez.org/). iPython (jupyter) notebooks allow you to run a multi-language (Python, R, Julia, Markdown, LaTex, etc) interpreter in your browser to create rich, portable, and sharable code documents.\n",
    "\n",
    "[Pandas](http://pandas.pydata.org/) is a libary created by [Wes McKinney](http://blog.wesmckinney.com/) that introduces the R-like dataframe object to Python and makes working with data in Python a lot easier. It's also a lot more efficient than the R dataframe and pretty much makes Python superior to R in every imaginable way (except for ggplot 2). "
   ]
  },
  {
   "cell_type": "markdown",
   "metadata": {},
   "source": [
    "##Getting started with iPython Notebooks\n",
    "\n",
    "To start up an iPython notebook server, simply navigate to the directory where you want the notebooks to be saved and run the command\n",
    "\n",
    "```\n",
    "ipython notebook\n",
    "```\n",
    "\n",
    "A browser should open with a notebook navigator. Click the \"New\" button and select \"Python 2\".\n",
    "\n",
    "A beautiful blank notebook should open in a new tab\n",
    "\n",
    "Name the notebook by clicking on \"Untitled\" at the top of the page.\n",
    "\n",
    "Notebooks are squences of cells. Cells can be markdown, code, or raw text. Change the first cell to markdown and briefly describe what you are going to do in the notebook. "
   ]
  },
  {
   "cell_type": "markdown",
   "metadata": {},
   "source": [
    "##Getting started with Pandas\n",
    "\n",
    "We start by importing the libraries we're going to use: `pandas` and `matplotlib`"
   ]
  },
  {
   "cell_type": "code",
   "execution_count": 81,
   "metadata": {
    "collapsed": true
   },
   "outputs": [],
   "source": [
    "import pandas as pd\n",
    "import numpy as np"
   ]
  },
  {
   "cell_type": "markdown",
   "metadata": {},
   "source": [
    "##Loading data into a DataFrame\n",
    "\n",
    "The pandas DataFrame is a two-dimensional size-mutable, potentially heterogeneous tabular data structure with labeled axes. It's basically a spreadsheet you can program and it's an incredibly useful Python object for data analysis. \n",
    "\n",
    "You can load data into a dataframe using Pandas' excellent `read_*` functions.\n",
    "\n",
    "Pro tip: jupyter will pull of the doc string for a command just by asking it a question"
   ]
  },
  {
   "cell_type": "code",
   "execution_count": 52,
   "metadata": {
    "collapsed": true
   },
   "outputs": [],
   "source": [
    "pd.read_csv?"
   ]
  },
  {
   "cell_type": "code",
   "execution_count": 53,
   "metadata": {
    "collapsed": false
   },
   "outputs": [],
   "source": [
    "df = pd.read_csv('/Users/matthewgee/Building_Violations_sample_50000.csv')\n",
    "#don't forget to check out tab completion in iPython!\n"
   ]
  },
  {
   "cell_type": "markdown",
   "metadata": {},
   "source": [
    "##Viewing your dataframe\n",
    "\n",
    "Just like we did in the command line, you can use `head` and `tail` to get a view of your data."
   ]
  },
  {
   "cell_type": "code",
   "execution_count": 54,
   "metadata": {
    "collapsed": false
   },
   "outputs": [
    {
     "data": {
      "text/html": [
       "<div style=\"max-height:1000px;max-width:1500px;overflow:auto;\">\n",
       "<table border=\"1\" class=\"dataframe\">\n",
       "  <thead>\n",
       "    <tr style=\"text-align: right;\">\n",
       "      <th></th>\n",
       "      <th>Unnamed: 0</th>\n",
       "      <th>ID</th>\n",
       "      <th>VIOLATION LAST MODIFIED DATE</th>\n",
       "      <th>VIOLATION DATE</th>\n",
       "      <th>VIOLATION CODE</th>\n",
       "      <th>VIOLATION STATUS</th>\n",
       "      <th>VIOLATION STATUS DATE</th>\n",
       "      <th>VIOLATION DESCRIPTION</th>\n",
       "      <th>VIOLATION LOCATION</th>\n",
       "      <th>VIOLATION INSPECTOR COMMENTS</th>\n",
       "      <th>...</th>\n",
       "      <th>INSPECTION STATUS</th>\n",
       "      <th>INSPECTION WAIVED</th>\n",
       "      <th>INSPECTION CATEGORY</th>\n",
       "      <th>DEPARTMENT BUREAU</th>\n",
       "      <th>ADDRESS</th>\n",
       "      <th>PROPERTY GROUP</th>\n",
       "      <th>SSA</th>\n",
       "      <th>LATITUDE</th>\n",
       "      <th>LONGITUDE</th>\n",
       "      <th>LOCATION</th>\n",
       "    </tr>\n",
       "  </thead>\n",
       "  <tbody>\n",
       "    <tr>\n",
       "      <th>49997</th>\n",
       "      <td> 49997</td>\n",
       "      <td> 1430847</td>\n",
       "      <td> 10/14/2008</td>\n",
       "      <td> 01/01/2006</td>\n",
       "      <td> CN031013</td>\n",
       "      <td> COMPLIED</td>\n",
       "      <td> 07/10/2008</td>\n",
       "      <td> FIRE EXTNGSHR REQ, RESDNTL</td>\n",
       "      <td> NaN</td>\n",
       "      <td>           ALL ELEVATION MISSING FIRE EXTINGUISHER</td>\n",
       "      <td>...</td>\n",
       "      <td> FAILED</td>\n",
       "      <td> N</td>\n",
       "      <td> PERIODIC</td>\n",
       "      <td> CONSERVATION</td>\n",
       "      <td>    6501 S LOWE AVE</td>\n",
       "      <td> 19693</td>\n",
       "      <td> NaN</td>\n",
       "      <td> 41.776074</td>\n",
       "      <td>-87.640625</td>\n",
       "      <td>  (41.7760739361563,-87.64062455203374)</td>\n",
       "    </tr>\n",
       "    <tr>\n",
       "      <th>49998</th>\n",
       "      <td> 49998</td>\n",
       "      <td> 1734149</td>\n",
       "      <td> 09/16/2008</td>\n",
       "      <td> 01/01/2006</td>\n",
       "      <td> CN135016</td>\n",
       "      <td> COMPLIED</td>\n",
       "      <td> 09/05/2008</td>\n",
       "      <td>               MICE/RODENTS</td>\n",
       "      <td> NaN</td>\n",
       "      <td>                                  MICE ON PREMISES</td>\n",
       "      <td>...</td>\n",
       "      <td> FAILED</td>\n",
       "      <td> N</td>\n",
       "      <td> PERIODIC</td>\n",
       "      <td> CONSERVATION</td>\n",
       "      <td> 4836 S INDIANA AVE</td>\n",
       "      <td> 18261</td>\n",
       "      <td> NaN</td>\n",
       "      <td> 41.806381</td>\n",
       "      <td>-87.621283</td>\n",
       "      <td> (41.80638088214982,-87.62128295874425)</td>\n",
       "    </tr>\n",
       "    <tr>\n",
       "      <th>49999</th>\n",
       "      <td> 49999</td>\n",
       "      <td> 1834762</td>\n",
       "      <td> 01/12/2007</td>\n",
       "      <td> 01/01/2006</td>\n",
       "      <td> CN190019</td>\n",
       "      <td> COMPLIED</td>\n",
       "      <td> 01/11/2007</td>\n",
       "      <td> ARRANGE PREMISE INSPECTION</td>\n",
       "      <td> NaN</td>\n",
       "      <td> NO ENTRY TO INTERIOR TO VERIFY OCCUPANCY AND D...</td>\n",
       "      <td>...</td>\n",
       "      <td> FAILED</td>\n",
       "      <td> N</td>\n",
       "      <td> PERIODIC</td>\n",
       "      <td> CONSERVATION</td>\n",
       "      <td>  200 N KOSTNER AVE</td>\n",
       "      <td>  1531</td>\n",
       "      <td> NaN</td>\n",
       "      <td> 41.883310</td>\n",
       "      <td>-87.735709</td>\n",
       "      <td> (41.88330951242491,-87.73570901056128)</td>\n",
       "    </tr>\n",
       "  </tbody>\n",
       "</table>\n",
       "<p>3 rows × 23 columns</p>\n",
       "</div>"
      ],
      "text/plain": [
       "       Unnamed: 0       ID VIOLATION LAST MODIFIED DATE VIOLATION DATE  \\\n",
       "49997       49997  1430847                   10/14/2008     01/01/2006   \n",
       "49998       49998  1734149                   09/16/2008     01/01/2006   \n",
       "49999       49999  1834762                   01/12/2007     01/01/2006   \n",
       "\n",
       "      VIOLATION CODE VIOLATION STATUS VIOLATION STATUS DATE  \\\n",
       "49997       CN031013         COMPLIED            07/10/2008   \n",
       "49998       CN135016         COMPLIED            09/05/2008   \n",
       "49999       CN190019         COMPLIED            01/11/2007   \n",
       "\n",
       "            VIOLATION DESCRIPTION VIOLATION LOCATION  \\\n",
       "49997  FIRE EXTNGSHR REQ, RESDNTL                NaN   \n",
       "49998                MICE/RODENTS                NaN   \n",
       "49999  ARRANGE PREMISE INSPECTION                NaN   \n",
       "\n",
       "                            VIOLATION INSPECTOR COMMENTS  \\\n",
       "49997            ALL ELEVATION MISSING FIRE EXTINGUISHER   \n",
       "49998                                   MICE ON PREMISES   \n",
       "49999  NO ENTRY TO INTERIOR TO VERIFY OCCUPANCY AND D...   \n",
       "\n",
       "                        ...                   INSPECTION STATUS  \\\n",
       "49997                   ...                              FAILED   \n",
       "49998                   ...                              FAILED   \n",
       "49999                   ...                              FAILED   \n",
       "\n",
       "      INSPECTION WAIVED  INSPECTION CATEGORY DEPARTMENT BUREAU  \\\n",
       "49997                 N             PERIODIC      CONSERVATION   \n",
       "49998                 N             PERIODIC      CONSERVATION   \n",
       "49999                 N             PERIODIC      CONSERVATION   \n",
       "\n",
       "                  ADDRESS PROPERTY GROUP  SSA   LATITUDE  LONGITUDE  \\\n",
       "49997     6501 S LOWE AVE          19693  NaN  41.776074 -87.640625   \n",
       "49998  4836 S INDIANA AVE          18261  NaN  41.806381 -87.621283   \n",
       "49999   200 N KOSTNER AVE           1531  NaN  41.883310 -87.735709   \n",
       "\n",
       "                                     LOCATION  \n",
       "49997   (41.7760739361563,-87.64062455203374)  \n",
       "49998  (41.80638088214982,-87.62128295874425)  \n",
       "49999  (41.88330951242491,-87.73570901056128)  \n",
       "\n",
       "[3 rows x 23 columns]"
      ]
     },
     "execution_count": 54,
     "metadata": {},
     "output_type": "execute_result"
    }
   ],
   "source": [
    "df.head()\n",
    "df.tail(3)"
   ]
  },
  {
   "cell_type": "markdown",
   "metadata": {},
   "source": [
    "We can get a sense for the size and shape of the data using `shape`"
   ]
  },
  {
   "cell_type": "code",
   "execution_count": 55,
   "metadata": {
    "collapsed": false
   },
   "outputs": [
    {
     "data": {
      "text/plain": [
       "(50000, 23)"
      ]
     },
     "execution_count": 55,
     "metadata": {},
     "output_type": "execute_result"
    }
   ],
   "source": [
    "df.shape"
   ]
  },
  {
   "cell_type": "markdown",
   "metadata": {},
   "source": [
    "Get a sense for the type of each column using `dtypes`"
   ]
  },
  {
   "cell_type": "code",
   "execution_count": 56,
   "metadata": {
    "collapsed": false
   },
   "outputs": [
    {
     "data": {
      "text/plain": [
       "Unnamed: 0                        int64\n",
       "ID                                int64\n",
       "VIOLATION LAST MODIFIED DATE     object\n",
       "VIOLATION DATE                   object\n",
       "VIOLATION CODE                   object\n",
       "VIOLATION STATUS                 object\n",
       "VIOLATION STATUS DATE            object\n",
       "VIOLATION DESCRIPTION            object\n",
       "VIOLATION LOCATION               object\n",
       "VIOLATION INSPECTOR COMMENTS     object\n",
       "VIOLATION ORDINANCE              object\n",
       "INSPECTOR ID                     object\n",
       "INSPECTION NUMBER                 int64\n",
       "INSPECTION STATUS                object\n",
       "INSPECTION WAIVED                object\n",
       "INSPECTION CATEGORY              object\n",
       "DEPARTMENT BUREAU                object\n",
       "ADDRESS                          object\n",
       "PROPERTY GROUP                    int64\n",
       "SSA                              object\n",
       "LATITUDE                        float64\n",
       "LONGITUDE                       float64\n",
       "LOCATION                         object\n",
       "dtype: object"
      ]
     },
     "execution_count": 56,
     "metadata": {},
     "output_type": "execute_result"
    }
   ],
   "source": [
    "df.dtypes"
   ]
  },
  {
   "cell_type": "markdown",
   "metadata": {},
   "source": [
    "Unnamed is a useless column. Let's get rid of it."
   ]
  },
  {
   "cell_type": "code",
   "execution_count": 57,
   "metadata": {
    "collapsed": false
   },
   "outputs": [],
   "source": [
    "del df['Unnamed: 0']"
   ]
  },
  {
   "cell_type": "markdown",
   "metadata": {},
   "source": [
    "##Cleaning up column names\n",
    "\n",
    "Notice that the column names have spaces. "
   ]
  },
  {
   "cell_type": "code",
   "execution_count": 58,
   "metadata": {
    "collapsed": false
   },
   "outputs": [
    {
     "data": {
      "text/plain": [
       "Index([u'ID', u'VIOLATION LAST MODIFIED DATE', u'VIOLATION DATE', u'VIOLATION CODE', u'VIOLATION STATUS', u'VIOLATION STATUS DATE', u'VIOLATION DESCRIPTION', u'VIOLATION LOCATION', u'VIOLATION INSPECTOR COMMENTS', u'VIOLATION ORDINANCE', u'INSPECTOR ID', u'INSPECTION NUMBER', u'INSPECTION STATUS', u'INSPECTION WAIVED', u'INSPECTION CATEGORY', u'DEPARTMENT BUREAU', u'ADDRESS', u'PROPERTY GROUP', u'SSA', u'LATITUDE', u'LONGITUDE', u'LOCATION'], dtype='object')"
      ]
     },
     "execution_count": 58,
     "metadata": {},
     "output_type": "execute_result"
    }
   ],
   "source": [
    "df.columns"
   ]
  },
  {
   "cell_type": "markdown",
   "metadata": {},
   "source": [
    "That's a bummer because columns without spaces in their names allow us to take a shortcut in selecting columns. \n",
    "\n",
    "Instead of referencing columns like this\n",
    "\n",
    "```\n",
    "df['VIOLATION STATUS DATE']\n",
    "```\n",
    "\n",
    "we would love to be able to use tab completion and reference the columns like this\n",
    "\n",
    "```\n",
    "df.violation_status_date\n",
    "```\n",
    "\n",
    "Let's fix it, and learn a little about defining python functions, real expressions, and list comprehension in the process."
   ]
  },
  {
   "cell_type": "code",
   "execution_count": 59,
   "metadata": {
    "collapsed": false
   },
   "outputs": [],
   "source": [
    "import re\n",
    "\n",
    "def spaces_to_snake(column_name):\n",
    "    \"\"\"\n",
    "    converts a string that has spaces into snake_case\n",
    "    Example:\n",
    "        print camel_to_snake(\"KENNY BROUGHT HIS WIFE\")\n",
    "        > KENNY_BROUGHT_HIS_WIFE\n",
    "    To see how to apply this to camel case, see:\n",
    "        http://stackoverflow.com/questions/1175208/elegant-python-function-to-convert-camelcase-to-camel-case\n",
    "    \"\"\"\n",
    "    s = re.sub(r\"\\s+\", '_', column_name)\n",
    "    return s.lower()\n",
    "\n",
    "df.columns = [spaces_to_snake(col) for col in df.columns]\n",
    "\n",
    "#Note: a much more elegant and pythonic way to do this would be to use the rename method and lambda syntax (e.g. df.rename(columns=lambda x: x.strip())), but we'll cover this later.\n"
   ]
  },
  {
   "cell_type": "code",
   "execution_count": 60,
   "metadata": {
    "collapsed": false
   },
   "outputs": [
    {
     "data": {
      "text/plain": [
       "Index([u'id', u'violation_last_modified_date', u'violation_date', u'violation_code', u'violation_status', u'violation_status_date', u'violation_description', u'violation_location', u'violation_inspector_comments', u'violation_ordinance', u'inspector_id', u'inspection_number', u'inspection_status', u'inspection_waived', u'inspection_category', u'department_bureau', u'address', u'property_group', u'ssa', u'latitude', u'longitude', u'location'], dtype='object')"
      ]
     },
     "execution_count": 60,
     "metadata": {},
     "output_type": "execute_result"
    }
   ],
   "source": [
    "df.columns"
   ]
  },
  {
   "cell_type": "markdown",
   "metadata": {},
   "source": [
    "Great. Now let's learn how to reference columns"
   ]
  },
  {
   "cell_type": "code",
   "execution_count": 61,
   "metadata": {
    "collapsed": false
   },
   "outputs": [
    {
     "data": {
      "text/plain": [
       "0    05/21/2015\n",
       "1    05/21/2015\n",
       "2    05/21/2015\n",
       "3    05/21/2015\n",
       "4    05/21/2015\n",
       "Name: violation_date, dtype: object"
      ]
     },
     "execution_count": 61,
     "metadata": {},
     "output_type": "execute_result"
    }
   ],
   "source": [
    "df.violation_date.head() #don't forget to try tab completion!"
   ]
  },
  {
   "cell_type": "markdown",
   "metadata": {},
   "source": [
    "##Converting to datetime\n",
    "\n",
    "Pandas has some fantastic methods for timeseries data. We need to convert the date columns (currently strings) to datetimes. "
   ]
  },
  {
   "cell_type": "code",
   "execution_count": 62,
   "metadata": {
    "collapsed": false
   },
   "outputs": [
    {
     "data": {
      "text/plain": [
       "0   2015-05-21\n",
       "1   2015-05-21\n",
       "2   2015-05-21\n",
       "3   2015-05-21\n",
       "4   2015-05-21\n",
       "Name: violation_date, dtype: datetime64[ns]"
      ]
     },
     "execution_count": 62,
     "metadata": {},
     "output_type": "execute_result"
    }
   ],
   "source": [
    "df.violation_date = pd.to_datetime(df.violation_date)\n",
    "df.violation_date.head()"
   ]
  },
  {
   "cell_type": "markdown",
   "metadata": {},
   "source": [
    "Try writing code that will change all the date columns to datetimes with as few lines as possible."
   ]
  },
  {
   "cell_type": "markdown",
   "metadata": {},
   "source": [
    "##Exploring Data\n",
    "\n",
    "Lets get a better sense what these fields look like. There are \n",
    "\n",
    "Let's start by describing the entire dataset using the describe command."
   ]
  },
  {
   "cell_type": "code",
   "execution_count": 63,
   "metadata": {
    "collapsed": false
   },
   "outputs": [
    {
     "data": {
      "text/html": [
       "<div style=\"max-height:1000px;max-width:1500px;overflow:auto;\">\n",
       "<table border=\"1\" class=\"dataframe\">\n",
       "  <thead>\n",
       "    <tr style=\"text-align: right;\">\n",
       "      <th></th>\n",
       "      <th>id</th>\n",
       "      <th>inspection_number</th>\n",
       "      <th>property_group</th>\n",
       "      <th>latitude</th>\n",
       "      <th>longitude</th>\n",
       "    </tr>\n",
       "  </thead>\n",
       "  <tbody>\n",
       "    <tr>\n",
       "      <th>count</th>\n",
       "      <td>   50000.000000</td>\n",
       "      <td>    50000.000000</td>\n",
       "      <td>  50000.000000</td>\n",
       "      <td> 49952.000000</td>\n",
       "      <td> 49952.000000</td>\n",
       "    </tr>\n",
       "    <tr>\n",
       "      <th>mean</th>\n",
       "      <td> 3300031.329640</td>\n",
       "      <td>  6195288.986320</td>\n",
       "      <td> 197729.741420</td>\n",
       "      <td>    41.845539</td>\n",
       "      <td>   -87.673442</td>\n",
       "    </tr>\n",
       "    <tr>\n",
       "      <th>std</th>\n",
       "      <td> 1088123.083684</td>\n",
       "      <td>  4296079.998463</td>\n",
       "      <td> 183132.260836</td>\n",
       "      <td>     0.087437</td>\n",
       "      <td>     0.057008</td>\n",
       "    </tr>\n",
       "    <tr>\n",
       "      <th>min</th>\n",
       "      <td>  742158.000000</td>\n",
       "      <td>   375113.000000</td>\n",
       "      <td>   1001.000000</td>\n",
       "      <td>    41.644712</td>\n",
       "      <td>   -87.914436</td>\n",
       "    </tr>\n",
       "    <tr>\n",
       "      <th>25%</th>\n",
       "      <td> 2400057.500000</td>\n",
       "      <td>  2021217.500000</td>\n",
       "      <td>  20600.750000</td>\n",
       "      <td>    41.771440</td>\n",
       "      <td>   -87.714271</td>\n",
       "    </tr>\n",
       "    <tr>\n",
       "      <th>50%</th>\n",
       "      <td> 3421152.000000</td>\n",
       "      <td>  2813561.000000</td>\n",
       "      <td> 142605.000000</td>\n",
       "      <td>    41.854001</td>\n",
       "      <td>   -87.670709</td>\n",
       "    </tr>\n",
       "    <tr>\n",
       "      <th>75%</th>\n",
       "      <td> 4223617.750000</td>\n",
       "      <td> 10630848.750000</td>\n",
       "      <td> 363929.250000</td>\n",
       "      <td>    41.912843</td>\n",
       "      <td>   -87.634551</td>\n",
       "    </tr>\n",
       "    <tr>\n",
       "      <th>max</th>\n",
       "      <td> 5064815.000000</td>\n",
       "      <td> 11597625.000000</td>\n",
       "      <td> 663759.000000</td>\n",
       "      <td>    42.022645</td>\n",
       "      <td>   -87.525898</td>\n",
       "    </tr>\n",
       "  </tbody>\n",
       "</table>\n",
       "</div>"
      ],
      "text/plain": [
       "                   id  inspection_number  property_group      latitude  \\\n",
       "count    50000.000000       50000.000000    50000.000000  49952.000000   \n",
       "mean   3300031.329640     6195288.986320   197729.741420     41.845539   \n",
       "std    1088123.083684     4296079.998463   183132.260836      0.087437   \n",
       "min     742158.000000      375113.000000     1001.000000     41.644712   \n",
       "25%    2400057.500000     2021217.500000    20600.750000     41.771440   \n",
       "50%    3421152.000000     2813561.000000   142605.000000     41.854001   \n",
       "75%    4223617.750000    10630848.750000   363929.250000     41.912843   \n",
       "max    5064815.000000    11597625.000000   663759.000000     42.022645   \n",
       "\n",
       "          longitude  \n",
       "count  49952.000000  \n",
       "mean     -87.673442  \n",
       "std        0.057008  \n",
       "min      -87.914436  \n",
       "25%      -87.714271  \n",
       "50%      -87.670709  \n",
       "75%      -87.634551  \n",
       "max      -87.525898  "
      ]
     },
     "execution_count": 63,
     "metadata": {},
     "output_type": "execute_result"
    }
   ],
   "source": [
    "df.describe()"
   ]
  },
  {
   "cell_type": "markdown",
   "metadata": {},
   "source": [
    "It looks like `describe` only works on numerical columns. For categorical, we can use `value_counts`."
   ]
  },
  {
   "cell_type": "code",
   "execution_count": 64,
   "metadata": {
    "collapsed": false
   },
   "outputs": [
    {
     "data": {
      "text/plain": [
       "FAILED    38371\n",
       "PASSED     6426\n",
       "CLOSED     5199\n",
       "HOLD          4\n",
       "dtype: int64"
      ]
     },
     "execution_count": 64,
     "metadata": {},
     "output_type": "execute_result"
    }
   ],
   "source": [
    "pd.value_counts(df.inspection_status)"
   ]
  },
  {
   "cell_type": "markdown",
   "metadata": {},
   "source": [
    "Let's see if there are missing values."
   ]
  },
  {
   "cell_type": "code",
   "execution_count": 65,
   "metadata": {
    "collapsed": false
   },
   "outputs": [
    {
     "data": {
      "text/plain": [
       "False    44705\n",
       "True      5295\n",
       "dtype: int64"
      ]
     },
     "execution_count": 65,
     "metadata": {},
     "output_type": "execute_result"
    }
   ],
   "source": [
    "pd.value_counts(df.violation_inspector_comments.isnull())"
   ]
  },
  {
   "cell_type": "markdown",
   "metadata": {},
   "source": [
    "What if we wanted to fill or drop the missing values? We can use `fillna` and `dropna`"
   ]
  },
  {
   "cell_type": "code",
   "execution_count": 66,
   "metadata": {
    "collapsed": false
   },
   "outputs": [],
   "source": [
    "df.violation_inspector_comments = df.violation_inspector_comments.fillna('No Comment')"
   ]
  },
  {
   "cell_type": "code",
   "execution_count": 67,
   "metadata": {
    "collapsed": false
   },
   "outputs": [
    {
     "data": {
      "text/plain": [
       "False    50000\n",
       "dtype: int64"
      ]
     },
     "execution_count": 67,
     "metadata": {},
     "output_type": "execute_result"
    }
   ],
   "source": [
    "pd.value_counts(df.violation_inspector_comments.isnull())"
   ]
  },
  {
   "cell_type": "markdown",
   "metadata": {},
   "source": [
    "##Selecting and Subsetting Data\n",
    "\n",
    "Let's say we just wanted to work with the inspectors that left no comments. We can subset using conditional logic."
   ]
  },
  {
   "cell_type": "code",
   "execution_count": 70,
   "metadata": {
    "collapsed": false
   },
   "outputs": [
    {
     "data": {
      "text/html": [
       "<div style=\"max-height:1000px;max-width:1500px;overflow:auto;\">\n",
       "<table border=\"1\" class=\"dataframe\">\n",
       "  <thead>\n",
       "    <tr style=\"text-align: right;\">\n",
       "      <th></th>\n",
       "      <th>id</th>\n",
       "      <th>violation_last_modified_date</th>\n",
       "      <th>violation_date</th>\n",
       "      <th>violation_code</th>\n",
       "      <th>violation_status</th>\n",
       "      <th>violation_status_date</th>\n",
       "      <th>violation_description</th>\n",
       "      <th>violation_location</th>\n",
       "      <th>violation_inspector_comments</th>\n",
       "      <th>violation_ordinance</th>\n",
       "      <th>...</th>\n",
       "      <th>inspection_status</th>\n",
       "      <th>inspection_waived</th>\n",
       "      <th>inspection_category</th>\n",
       "      <th>department_bureau</th>\n",
       "      <th>address</th>\n",
       "      <th>property_group</th>\n",
       "      <th>ssa</th>\n",
       "      <th>latitude</th>\n",
       "      <th>longitude</th>\n",
       "      <th>location</th>\n",
       "    </tr>\n",
       "  </thead>\n",
       "  <tbody>\n",
       "    <tr>\n",
       "      <th>13</th>\n",
       "      <td> 5063459</td>\n",
       "      <td> 05/20/2015</td>\n",
       "      <td>2015-05-20</td>\n",
       "      <td> CN193019</td>\n",
       "      <td> OPEN</td>\n",
       "      <td> NaN</td>\n",
       "      <td> REPAIR/WRECK DANGER RESID PREM</td>\n",
       "      <td> NaN</td>\n",
       "      <td> No Comment</td>\n",
       "      <td> Repair or wreck dangerous and vacant residenti...</td>\n",
       "      <td>...</td>\n",
       "      <td> CLOSED</td>\n",
       "      <td> N</td>\n",
       "      <td> COMPLAINT</td>\n",
       "      <td> DEMOLITION</td>\n",
       "      <td>    3051 S BROAD ST</td>\n",
       "      <td> 285348</td>\n",
       "      <td> NaN</td>\n",
       "      <td> 41.838454</td>\n",
       "      <td>-87.660979</td>\n",
       "      <td>   (41.83845438362799,-87.6609787384341)</td>\n",
       "    </tr>\n",
       "    <tr>\n",
       "      <th>15</th>\n",
       "      <td> 5063885</td>\n",
       "      <td> 05/21/2015</td>\n",
       "      <td>2015-05-20</td>\n",
       "      <td>   BR1001</td>\n",
       "      <td> OPEN</td>\n",
       "      <td> NaN</td>\n",
       "      <td>   OWNER OR LICENSED CONTRACTOR</td>\n",
       "      <td> NaN</td>\n",
       "      <td> No Comment</td>\n",
       "      <td> The code violations listed below must be corre...</td>\n",
       "      <td>...</td>\n",
       "      <td> CLOSED</td>\n",
       "      <td> N</td>\n",
       "      <td>  PERIODIC</td>\n",
       "      <td>     BOILER</td>\n",
       "      <td>   6448 S TRIPP AVE</td>\n",
       "      <td> 387870</td>\n",
       "      <td> NaN</td>\n",
       "      <td> 41.775328</td>\n",
       "      <td>-87.728922</td>\n",
       "      <td> (41.775328312329904,-87.72892174006991)</td>\n",
       "    </tr>\n",
       "    <tr>\n",
       "      <th>16</th>\n",
       "      <td> 5063912</td>\n",
       "      <td> 05/21/2015</td>\n",
       "      <td>2015-05-20</td>\n",
       "      <td> PL151137</td>\n",
       "      <td> OPEN</td>\n",
       "      <td> NaN</td>\n",
       "      <td>                           OPEN</td>\n",
       "      <td> NaN</td>\n",
       "      <td> No Comment</td>\n",
       "      <td>                                               NaN</td>\n",
       "      <td>...</td>\n",
       "      <td> FAILED</td>\n",
       "      <td> N</td>\n",
       "      <td>    PERMIT</td>\n",
       "      <td>   PLUMBING</td>\n",
       "      <td>   3835 W CERMAK RD</td>\n",
       "      <td> 280823</td>\n",
       "      <td> NaN</td>\n",
       "      <td> 41.851485</td>\n",
       "      <td>-87.721159</td>\n",
       "      <td>  (41.85148492680666,-87.72115941535648)</td>\n",
       "    </tr>\n",
       "    <tr>\n",
       "      <th>18</th>\n",
       "      <td> 5063320</td>\n",
       "      <td> 05/20/2015</td>\n",
       "      <td>2015-05-20</td>\n",
       "      <td> CN193019</td>\n",
       "      <td> OPEN</td>\n",
       "      <td> NaN</td>\n",
       "      <td> REPAIR/WRECK DANGER RESID PREM</td>\n",
       "      <td> NaN</td>\n",
       "      <td> No Comment</td>\n",
       "      <td> Repair or wreck dangerous and vacant residenti...</td>\n",
       "      <td>...</td>\n",
       "      <td> CLOSED</td>\n",
       "      <td> N</td>\n",
       "      <td> COMPLAINT</td>\n",
       "      <td> DEMOLITION</td>\n",
       "      <td>  11025 S ESMOND ST</td>\n",
       "      <td> 516079</td>\n",
       "      <td> NaN</td>\n",
       "      <td> 41.693018</td>\n",
       "      <td>-87.667286</td>\n",
       "      <td>  (41.69301757344688,-87.66728567428113)</td>\n",
       "    </tr>\n",
       "    <tr>\n",
       "      <th>20</th>\n",
       "      <td> 5064410</td>\n",
       "      <td> 05/20/2015</td>\n",
       "      <td>2015-05-20</td>\n",
       "      <td> CN193039</td>\n",
       "      <td> OPEN</td>\n",
       "      <td> NaN</td>\n",
       "      <td>  POST OWNER NAME OF VACNT BLDG</td>\n",
       "      <td> NaN</td>\n",
       "      <td> No Comment</td>\n",
       "      <td> Post conspicuously name, address, and telephon...</td>\n",
       "      <td>...</td>\n",
       "      <td> CLOSED</td>\n",
       "      <td> N</td>\n",
       "      <td> COMPLAINT</td>\n",
       "      <td> DEMOLITION</td>\n",
       "      <td> 6928 S KIMBARK AVE</td>\n",
       "      <td> 393870</td>\n",
       "      <td> NaN</td>\n",
       "      <td> 41.769012</td>\n",
       "      <td>-87.594164</td>\n",
       "      <td>  (41.76901189738516,-87.59416364991507)</td>\n",
       "    </tr>\n",
       "  </tbody>\n",
       "</table>\n",
       "<p>5 rows × 22 columns</p>\n",
       "</div>"
      ],
      "text/plain": [
       "         id violation_last_modified_date violation_date violation_code  \\\n",
       "13  5063459                   05/20/2015     2015-05-20       CN193019   \n",
       "15  5063885                   05/21/2015     2015-05-20         BR1001   \n",
       "16  5063912                   05/21/2015     2015-05-20       PL151137   \n",
       "18  5063320                   05/20/2015     2015-05-20       CN193019   \n",
       "20  5064410                   05/20/2015     2015-05-20       CN193039   \n",
       "\n",
       "   violation_status violation_status_date           violation_description  \\\n",
       "13             OPEN                   NaN  REPAIR/WRECK DANGER RESID PREM   \n",
       "15             OPEN                   NaN    OWNER OR LICENSED CONTRACTOR   \n",
       "16             OPEN                   NaN                            OPEN   \n",
       "18             OPEN                   NaN  REPAIR/WRECK DANGER RESID PREM   \n",
       "20             OPEN                   NaN   POST OWNER NAME OF VACNT BLDG   \n",
       "\n",
       "   violation_location violation_inspector_comments  \\\n",
       "13                NaN                   No Comment   \n",
       "15                NaN                   No Comment   \n",
       "16                NaN                   No Comment   \n",
       "18                NaN                   No Comment   \n",
       "20                NaN                   No Comment   \n",
       "\n",
       "                                  violation_ordinance  \\\n",
       "13  Repair or wreck dangerous and vacant residenti...   \n",
       "15  The code violations listed below must be corre...   \n",
       "16                                                NaN   \n",
       "18  Repair or wreck dangerous and vacant residenti...   \n",
       "20  Post conspicuously name, address, and telephon...   \n",
       "\n",
       "                     ...                    inspection_status  \\\n",
       "13                   ...                               CLOSED   \n",
       "15                   ...                               CLOSED   \n",
       "16                   ...                               FAILED   \n",
       "18                   ...                               CLOSED   \n",
       "20                   ...                               CLOSED   \n",
       "\n",
       "    inspection_waived inspection_category department_bureau  \\\n",
       "13                  N           COMPLAINT        DEMOLITION   \n",
       "15                  N            PERIODIC            BOILER   \n",
       "16                  N              PERMIT          PLUMBING   \n",
       "18                  N           COMPLAINT        DEMOLITION   \n",
       "20                  N           COMPLAINT        DEMOLITION   \n",
       "\n",
       "               address property_group  ssa   latitude  longitude  \\\n",
       "13     3051 S BROAD ST         285348  NaN  41.838454 -87.660979   \n",
       "15    6448 S TRIPP AVE         387870  NaN  41.775328 -87.728922   \n",
       "16    3835 W CERMAK RD         280823  NaN  41.851485 -87.721159   \n",
       "18   11025 S ESMOND ST         516079  NaN  41.693018 -87.667286   \n",
       "20  6928 S KIMBARK AVE         393870  NaN  41.769012 -87.594164   \n",
       "\n",
       "                                   location  \n",
       "13    (41.83845438362799,-87.6609787384341)  \n",
       "15  (41.775328312329904,-87.72892174006991)  \n",
       "16   (41.85148492680666,-87.72115941535648)  \n",
       "18   (41.69301757344688,-87.66728567428113)  \n",
       "20   (41.76901189738516,-87.59416364991507)  \n",
       "\n",
       "[5 rows x 22 columns]"
      ]
     },
     "execution_count": 70,
     "metadata": {},
     "output_type": "execute_result"
    }
   ],
   "source": [
    "df[df.violation_inspector_comments=='No Comment'].head()"
   ]
  },
  {
   "cell_type": "markdown",
   "metadata": {},
   "source": [
    "We can also subset using indexing like R.\n",
    "\n",
    "You can slice a Series by range using the [] operator"
   ]
  },
  {
   "cell_type": "code",
   "execution_count": 76,
   "metadata": {
    "collapsed": false
   },
   "outputs": [
    {
     "data": {
      "text/plain": [
       "3    OPEN\n",
       "4    OPEN\n",
       "5    OPEN\n",
       "6    OPEN\n",
       "7    OPEN\n",
       "8    OPEN\n",
       "9    OPEN\n",
       "Name: violation_status, dtype: object"
      ]
     },
     "execution_count": 76,
     "metadata": {},
     "output_type": "execute_result"
    }
   ],
   "source": [
    "df.violation_status[3:10]"
   ]
  },
  {
   "cell_type": "markdown",
   "metadata": {},
   "source": [
    "Or by location in the DataFram using the `.iloc` method"
   ]
  },
  {
   "cell_type": "code",
   "execution_count": 80,
   "metadata": {
    "collapsed": false
   },
   "outputs": [
    {
     "data": {
      "text/html": [
       "<div style=\"max-height:1000px;max-width:1500px;overflow:auto;\">\n",
       "<table border=\"1\" class=\"dataframe\">\n",
       "  <thead>\n",
       "    <tr style=\"text-align: right;\">\n",
       "      <th></th>\n",
       "      <th>violation_last_modified_date</th>\n",
       "      <th>violation_date</th>\n",
       "      <th>violation_code</th>\n",
       "    </tr>\n",
       "  </thead>\n",
       "  <tbody>\n",
       "    <tr>\n",
       "      <th>3</th>\n",
       "      <td> 05/21/2015</td>\n",
       "      <td>2015-05-21</td>\n",
       "      <td> CN196029</td>\n",
       "    </tr>\n",
       "    <tr>\n",
       "      <th>4</th>\n",
       "      <td> 05/21/2015</td>\n",
       "      <td>2015-05-21</td>\n",
       "      <td> CN104015</td>\n",
       "    </tr>\n",
       "    <tr>\n",
       "      <th>5</th>\n",
       "      <td> 05/21/2015</td>\n",
       "      <td>2015-05-21</td>\n",
       "      <td> CN190019</td>\n",
       "    </tr>\n",
       "    <tr>\n",
       "      <th>6</th>\n",
       "      <td> 05/21/2015</td>\n",
       "      <td>2015-05-21</td>\n",
       "      <td> CN015062</td>\n",
       "    </tr>\n",
       "    <tr>\n",
       "      <th>7</th>\n",
       "      <td> 05/21/2015</td>\n",
       "      <td>2015-05-21</td>\n",
       "      <td> CN065034</td>\n",
       "    </tr>\n",
       "    <tr>\n",
       "      <th>8</th>\n",
       "      <td> 05/21/2015</td>\n",
       "      <td>2015-05-21</td>\n",
       "      <td> CN196029</td>\n",
       "    </tr>\n",
       "    <tr>\n",
       "      <th>9</th>\n",
       "      <td> 05/21/2015</td>\n",
       "      <td>2015-05-21</td>\n",
       "      <td> CN190019</td>\n",
       "    </tr>\n",
       "  </tbody>\n",
       "</table>\n",
       "</div>"
      ],
      "text/plain": [
       "  violation_last_modified_date violation_date violation_code\n",
       "3                   05/21/2015     2015-05-21       CN196029\n",
       "4                   05/21/2015     2015-05-21       CN104015\n",
       "5                   05/21/2015     2015-05-21       CN190019\n",
       "6                   05/21/2015     2015-05-21       CN015062\n",
       "7                   05/21/2015     2015-05-21       CN065034\n",
       "8                   05/21/2015     2015-05-21       CN196029\n",
       "9                   05/21/2015     2015-05-21       CN190019"
      ]
     },
     "execution_count": 80,
     "metadata": {},
     "output_type": "execute_result"
    }
   ],
   "source": [
    "df.iloc[3:10,1:4]"
   ]
  },
  {
   "cell_type": "markdown",
   "metadata": {},
   "source": [
    "The `.ix` method supports lookup by label as well as integers."
   ]
  },
  {
   "cell_type": "markdown",
   "metadata": {},
   "source": [
    "##Applying functions\n",
    "\n",
    "Often we want to apply a function to an entire column to create a new column. You can do this by using the `apply` method. Let's say we wanted to add noise to the"
   ]
  },
  {
   "cell_type": "code",
   "execution_count": 86,
   "metadata": {
    "collapsed": false
   },
   "outputs": [
    {
     "data": {
      "text/html": [
       "<div style=\"max-height:1000px;max-width:1500px;overflow:auto;\">\n",
       "<table border=\"1\" class=\"dataframe\">\n",
       "  <thead>\n",
       "    <tr style=\"text-align: right;\">\n",
       "      <th></th>\n",
       "      <th>latitude</th>\n",
       "      <th>log_lat</th>\n",
       "    </tr>\n",
       "  </thead>\n",
       "  <tbody>\n",
       "    <tr>\n",
       "      <th>0</th>\n",
       "      <td> 41.733089</td>\n",
       "      <td> 3.731294</td>\n",
       "    </tr>\n",
       "    <tr>\n",
       "      <th>1</th>\n",
       "      <td> 41.777088</td>\n",
       "      <td> 3.732348</td>\n",
       "    </tr>\n",
       "    <tr>\n",
       "      <th>2</th>\n",
       "      <td> 41.937995</td>\n",
       "      <td> 3.736192</td>\n",
       "    </tr>\n",
       "    <tr>\n",
       "      <th>3</th>\n",
       "      <td> 41.937995</td>\n",
       "      <td> 3.736192</td>\n",
       "    </tr>\n",
       "    <tr>\n",
       "      <th>4</th>\n",
       "      <td> 41.791470</td>\n",
       "      <td> 3.732692</td>\n",
       "    </tr>\n",
       "  </tbody>\n",
       "</table>\n",
       "</div>"
      ],
      "text/plain": [
       "    latitude   log_lat\n",
       "0  41.733089  3.731294\n",
       "1  41.777088  3.732348\n",
       "2  41.937995  3.736192\n",
       "3  41.937995  3.736192\n",
       "4  41.791470  3.732692"
      ]
     },
     "execution_count": 86,
     "metadata": {},
     "output_type": "execute_result"
    }
   ],
   "source": [
    "df['log_lat'] = df.latitude.apply(np.log)\n",
    "df[['latitude','log_lat']].head()"
   ]
  },
  {
   "cell_type": "markdown",
   "metadata": {},
   "source": [
    "Let's say we wanted to anonlymize location by add noise to the latitude. We can do this using apply with `lambda` syntax."
   ]
  },
  {
   "cell_type": "code",
   "execution_count": 88,
   "metadata": {
    "collapsed": false
   },
   "outputs": [],
   "source": [
    "df['new_lat'] = df.latitude.apply(lambda x: x + np.random.rand())\n"
   ]
  },
  {
   "cell_type": "code",
   "execution_count": 89,
   "metadata": {
    "collapsed": false
   },
   "outputs": [
    {
     "data": {
      "text/html": [
       "<div style=\"max-height:1000px;max-width:1500px;overflow:auto;\">\n",
       "<table border=\"1\" class=\"dataframe\">\n",
       "  <thead>\n",
       "    <tr style=\"text-align: right;\">\n",
       "      <th></th>\n",
       "      <th>latitude</th>\n",
       "      <th>new_lat</th>\n",
       "      <th>log_lat</th>\n",
       "    </tr>\n",
       "  </thead>\n",
       "  <tbody>\n",
       "    <tr>\n",
       "      <th>0</th>\n",
       "      <td> 41.733089</td>\n",
       "      <td> 41.820477</td>\n",
       "      <td> 3.731294</td>\n",
       "    </tr>\n",
       "    <tr>\n",
       "      <th>1</th>\n",
       "      <td> 41.777088</td>\n",
       "      <td> 42.345738</td>\n",
       "      <td> 3.732348</td>\n",
       "    </tr>\n",
       "    <tr>\n",
       "      <th>2</th>\n",
       "      <td> 41.937995</td>\n",
       "      <td> 42.259092</td>\n",
       "      <td> 3.736192</td>\n",
       "    </tr>\n",
       "    <tr>\n",
       "      <th>3</th>\n",
       "      <td> 41.937995</td>\n",
       "      <td> 42.865434</td>\n",
       "      <td> 3.736192</td>\n",
       "    </tr>\n",
       "    <tr>\n",
       "      <th>4</th>\n",
       "      <td> 41.791470</td>\n",
       "      <td> 42.657788</td>\n",
       "      <td> 3.732692</td>\n",
       "    </tr>\n",
       "  </tbody>\n",
       "</table>\n",
       "</div>"
      ],
      "text/plain": [
       "    latitude    new_lat   log_lat\n",
       "0  41.733089  41.820477  3.731294\n",
       "1  41.777088  42.345738  3.732348\n",
       "2  41.937995  42.259092  3.736192\n",
       "3  41.937995  42.865434  3.736192\n",
       "4  41.791470  42.657788  3.732692"
      ]
     },
     "execution_count": 89,
     "metadata": {},
     "output_type": "execute_result"
    }
   ],
   "source": [
    "df[['latitude','new_lat','log_lat']].head()"
   ]
  },
  {
   "cell_type": "markdown",
   "metadata": {},
   "source": [
    "##Groupby\n",
    "\n",
    "Often we want to examine difference among groups based on categorical values. For this `groupby` is incredibly valuable"
   ]
  },
  {
   "cell_type": "code",
   "execution_count": 96,
   "metadata": {
    "collapsed": false
   },
   "outputs": [
    {
     "data": {
      "text/html": [
       "<div style=\"max-height:1000px;max-width:1500px;overflow:auto;\">\n",
       "<table border=\"1\" class=\"dataframe\">\n",
       "  <thead>\n",
       "    <tr style=\"text-align: right;\">\n",
       "      <th></th>\n",
       "      <th>id</th>\n",
       "      <th>inspection_number</th>\n",
       "      <th>property_group</th>\n",
       "      <th>latitude</th>\n",
       "      <th>longitude</th>\n",
       "      <th>log_lat</th>\n",
       "      <th>new_lat</th>\n",
       "    </tr>\n",
       "    <tr>\n",
       "      <th>department_bureau</th>\n",
       "      <th></th>\n",
       "      <th></th>\n",
       "      <th></th>\n",
       "      <th></th>\n",
       "      <th></th>\n",
       "      <th></th>\n",
       "      <th></th>\n",
       "    </tr>\n",
       "  </thead>\n",
       "  <tbody>\n",
       "    <tr>\n",
       "      <th>BOILER</th>\n",
       "      <td> 3187754</td>\n",
       "      <td>  6534207</td>\n",
       "      <td> 250911</td>\n",
       "      <td> 41.841682</td>\n",
       "      <td>-87.670488</td>\n",
       "      <td> 3.733891</td>\n",
       "      <td> 42.351961</td>\n",
       "    </tr>\n",
       "    <tr>\n",
       "      <th>CONSERVATION</th>\n",
       "      <td> 3182004</td>\n",
       "      <td>  5599306</td>\n",
       "      <td> 182792</td>\n",
       "      <td> 41.846195</td>\n",
       "      <td>-87.673469</td>\n",
       "      <td> 3.733999</td>\n",
       "      <td> 42.344833</td>\n",
       "    </tr>\n",
       "    <tr>\n",
       "      <th>CONSTRUCTION EQUIPMENT</th>\n",
       "      <td> 3843828</td>\n",
       "      <td>  9226801</td>\n",
       "      <td> 296070</td>\n",
       "      <td> 41.928653</td>\n",
       "      <td>-87.684458</td>\n",
       "      <td> 3.735969</td>\n",
       "      <td> 42.457416</td>\n",
       "    </tr>\n",
       "    <tr>\n",
       "      <th>DEMOLITION</th>\n",
       "      <td> 4230535</td>\n",
       "      <td> 10161867</td>\n",
       "      <td> 303974</td>\n",
       "      <td> 41.807409</td>\n",
       "      <td>-87.669775</td>\n",
       "      <td> 3.733072</td>\n",
       "      <td> 42.310347</td>\n",
       "    </tr>\n",
       "    <tr>\n",
       "      <th>ELECTRICAL</th>\n",
       "      <td> 3148057</td>\n",
       "      <td>  6082962</td>\n",
       "      <td> 226475</td>\n",
       "      <td> 41.839267</td>\n",
       "      <td>-87.670183</td>\n",
       "      <td> 3.733833</td>\n",
       "      <td> 42.338321</td>\n",
       "    </tr>\n",
       "    <tr>\n",
       "      <th>ELEVATOR</th>\n",
       "      <td> 4030558</td>\n",
       "      <td>  8923590</td>\n",
       "      <td>  99430</td>\n",
       "      <td> 41.900869</td>\n",
       "      <td>-87.659214</td>\n",
       "      <td> 3.735305</td>\n",
       "      <td> 42.408477</td>\n",
       "    </tr>\n",
       "    <tr>\n",
       "      <th>IRON</th>\n",
       "      <td> 3440557</td>\n",
       "      <td>  8065067</td>\n",
       "      <td>  87547</td>\n",
       "      <td> 41.906648</td>\n",
       "      <td>-87.671767</td>\n",
       "      <td> 3.735444</td>\n",
       "      <td> 42.412610</td>\n",
       "    </tr>\n",
       "    <tr>\n",
       "      <th>NEW CONSTRUCTION</th>\n",
       "      <td> 2984252</td>\n",
       "      <td>  5171424</td>\n",
       "      <td> 229395</td>\n",
       "      <td> 41.863878</td>\n",
       "      <td>-87.683687</td>\n",
       "      <td> 3.734421</td>\n",
       "      <td> 42.376014</td>\n",
       "    </tr>\n",
       "    <tr>\n",
       "      <th>PLUMBING</th>\n",
       "      <td> 3162547</td>\n",
       "      <td>  5747402</td>\n",
       "      <td> 249322</td>\n",
       "      <td> 41.817108</td>\n",
       "      <td>-87.663690</td>\n",
       "      <td> 3.733304</td>\n",
       "      <td> 42.307793</td>\n",
       "    </tr>\n",
       "    <tr>\n",
       "      <th>REFRIGERATION</th>\n",
       "      <td> 3187633</td>\n",
       "      <td>  5082480</td>\n",
       "      <td> 200453</td>\n",
       "      <td> 41.874878</td>\n",
       "      <td>-87.679022</td>\n",
       "      <td> 3.734684</td>\n",
       "      <td> 42.373713</td>\n",
       "    </tr>\n",
       "    <tr>\n",
       "      <th>SIGNS</th>\n",
       "      <td> 3270825</td>\n",
       "      <td>  5902844</td>\n",
       "      <td> 211517</td>\n",
       "      <td> 41.874992</td>\n",
       "      <td>-87.688456</td>\n",
       "      <td> 3.734687</td>\n",
       "      <td> 42.380324</td>\n",
       "    </tr>\n",
       "    <tr>\n",
       "      <th>SPECIAL INSPECTION PROGRAM</th>\n",
       "      <td> 3456048</td>\n",
       "      <td>  7541672</td>\n",
       "      <td> 185044</td>\n",
       "      <td> 41.864683</td>\n",
       "      <td>-87.669368</td>\n",
       "      <td> 3.734441</td>\n",
       "      <td> 42.356297</td>\n",
       "    </tr>\n",
       "    <tr>\n",
       "      <th>SPECIAL TASK FORCE</th>\n",
       "      <td> 3409343</td>\n",
       "      <td>  6906617</td>\n",
       "      <td> 238518</td>\n",
       "      <td> 41.829780</td>\n",
       "      <td>-87.679063</td>\n",
       "      <td> 3.733607</td>\n",
       "      <td> 42.325404</td>\n",
       "    </tr>\n",
       "    <tr>\n",
       "      <th>VENTILATION</th>\n",
       "      <td> 3478907</td>\n",
       "      <td>  7282778</td>\n",
       "      <td> 165530</td>\n",
       "      <td> 41.889416</td>\n",
       "      <td>-87.684892</td>\n",
       "      <td> 3.735031</td>\n",
       "      <td> 42.386265</td>\n",
       "    </tr>\n",
       "    <tr>\n",
       "      <th>WATER</th>\n",
       "      <td> 3444794</td>\n",
       "      <td>  5467028</td>\n",
       "      <td> 223212</td>\n",
       "      <td> 41.866511</td>\n",
       "      <td>-87.665067</td>\n",
       "      <td> 3.734484</td>\n",
       "      <td> 42.372818</td>\n",
       "    </tr>\n",
       "  </tbody>\n",
       "</table>\n",
       "</div>"
      ],
      "text/plain": [
       "                                 id  inspection_number  property_group  \\\n",
       "department_bureau                                                        \n",
       "BOILER                      3187754            6534207          250911   \n",
       "CONSERVATION                3182004            5599306          182792   \n",
       "CONSTRUCTION EQUIPMENT      3843828            9226801          296070   \n",
       "DEMOLITION                  4230535           10161867          303974   \n",
       "ELECTRICAL                  3148057            6082962          226475   \n",
       "ELEVATOR                    4030558            8923590           99430   \n",
       "IRON                        3440557            8065067           87547   \n",
       "NEW CONSTRUCTION            2984252            5171424          229395   \n",
       "PLUMBING                    3162547            5747402          249322   \n",
       "REFRIGERATION               3187633            5082480          200453   \n",
       "SIGNS                       3270825            5902844          211517   \n",
       "SPECIAL INSPECTION PROGRAM  3456048            7541672          185044   \n",
       "SPECIAL TASK FORCE          3409343            6906617          238518   \n",
       "VENTILATION                 3478907            7282778          165530   \n",
       "WATER                       3444794            5467028          223212   \n",
       "\n",
       "                             latitude  longitude   log_lat    new_lat  \n",
       "department_bureau                                                      \n",
       "BOILER                      41.841682 -87.670488  3.733891  42.351961  \n",
       "CONSERVATION                41.846195 -87.673469  3.733999  42.344833  \n",
       "CONSTRUCTION EQUIPMENT      41.928653 -87.684458  3.735969  42.457416  \n",
       "DEMOLITION                  41.807409 -87.669775  3.733072  42.310347  \n",
       "ELECTRICAL                  41.839267 -87.670183  3.733833  42.338321  \n",
       "ELEVATOR                    41.900869 -87.659214  3.735305  42.408477  \n",
       "IRON                        41.906648 -87.671767  3.735444  42.412610  \n",
       "NEW CONSTRUCTION            41.863878 -87.683687  3.734421  42.376014  \n",
       "PLUMBING                    41.817108 -87.663690  3.733304  42.307793  \n",
       "REFRIGERATION               41.874878 -87.679022  3.734684  42.373713  \n",
       "SIGNS                       41.874992 -87.688456  3.734687  42.380324  \n",
       "SPECIAL INSPECTION PROGRAM  41.864683 -87.669368  3.734441  42.356297  \n",
       "SPECIAL TASK FORCE          41.829780 -87.679063  3.733607  42.325404  \n",
       "VENTILATION                 41.889416 -87.684892  3.735031  42.386265  \n",
       "WATER                       41.866511 -87.665067  3.734484  42.372818  "
      ]
     },
     "execution_count": 96,
     "metadata": {},
     "output_type": "execute_result"
    }
   ],
   "source": [
    "df.groupby(\"department_bureau\").mean()"
   ]
  }
 ],
 "metadata": {
  "kernelspec": {
   "display_name": "Python 2",
   "language": "python",
   "name": "python2"
  },
  "language_info": {
   "codemirror_mode": {
    "name": "ipython",
    "version": 2
   },
   "file_extension": ".py",
   "mimetype": "text/x-python",
   "name": "python",
   "nbconvert_exporter": "python",
   "pygments_lexer": "ipython2",
   "version": "2.7.9"
  }
 },
 "nbformat": 4,
 "nbformat_minor": 0
}
