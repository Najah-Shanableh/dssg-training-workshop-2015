{
 "cells": [
  {
   "cell_type": "markdown",
   "metadata": {},
   "source": [
    "##Feature Engineering\n",
    "\n",
    "Features are the workhorse of machine learning. For the buildings data, we're going to learn helpful functions for creating features out of raw data using python. \n",
    "\n",
    "We're going to learn to\n",
    "\n",
    "- create binary indicators from strings\n",
    "- create indicators for date ranges\n",
    "- create date-level aggregations\n",
    "- create bins using cut\n",
    "- do basic word counts \n",
    "- create geographic features\n"
   ]
  },
  {
   "cell_type": "code",
   "execution_count": 43,
   "metadata": {
    "collapsed": false
   },
   "outputs": [],
   "source": [
    "import pandas as pd\n",
    "\n",
    "df = pd.read_csv(\"/Users/matthewgee/Buildings_Violations_sample_50000_clean.csv\")"
   ]
  },
  {
   "cell_type": "markdown",
   "metadata": {},
   "source": [
    "##Create Dummy Variables (Binary Indicators) for Categorical Values\n",
    "\n",
    "Pandas has a build in function `get_dummies` that can be use to create categorical variables.\n"
   ]
  },
  {
   "cell_type": "code",
   "execution_count": 44,
   "metadata": {
    "collapsed": false
   },
   "outputs": [],
   "source": [
    "\n",
    "def create_dummies(df, column_list):\n",
    "    for col in column_list:\n",
    "        dummies = pd.get_dummies(df[col])\n",
    "        df[dummies.columns] = dummies\n",
    "        df = df.rename(columns=lambda x: x.replace(\" \", \"_\").lower())\n",
    "        df.columns\n",
    "    return df\n"
   ]
  },
  {
   "cell_type": "code",
   "execution_count": 45,
   "metadata": {
    "collapsed": false,
    "scrolled": true
   },
   "outputs": [
    {
     "data": {
      "text/plain": [
       "Unnamed: 0                        int64\n",
       "id                                int64\n",
       "violation_last_modified_date     object\n",
       "violation_date                   object\n",
       "violation_code                   object\n",
       "violation_status                 object\n",
       "violation_status_date            object\n",
       "violation_description            object\n",
       "violation_location               object\n",
       "violation_inspector_comments     object\n",
       "violation_ordinance              object\n",
       "inspector_id                     object\n",
       "inspection_number                 int64\n",
       "inspection_status                object\n",
       "inspection_waived                object\n",
       "inspection_category              object\n",
       "department_bureau                object\n",
       "address                          object\n",
       "property_group                    int64\n",
       "ssa                              object\n",
       "latitude                        float64\n",
       "longitude                       float64\n",
       "location                         object\n",
       "log_lat                         float64\n",
       "new_lat                         float64\n",
       "dtype: object"
      ]
     },
     "execution_count": 45,
     "metadata": {},
     "output_type": "execute_result"
    }
   ],
   "source": [
    "df.dtypes"
   ]
  },
  {
   "cell_type": "code",
   "execution_count": 46,
   "metadata": {
    "collapsed": false
   },
   "outputs": [],
   "source": [
    "df = create_dummies(df, ['inspection_status','department_bureau','violation_status'])"
   ]
  },
  {
   "cell_type": "code",
   "execution_count": 47,
   "metadata": {
    "collapsed": false,
    "scrolled": true
   },
   "outputs": [
    {
     "data": {
      "text/plain": [
       "Index([u'unnamed:_0', u'id', u'violation_last_modified_date', u'violation_date', u'violation_code', u'violation_status', u'violation_status_date', u'violation_description', u'violation_location', u'violation_inspector_comments', u'violation_ordinance', u'inspector_id', u'inspection_number', u'inspection_status', u'inspection_waived', u'inspection_category', u'department_bureau', u'address', u'property_group', u'ssa', u'latitude', u'longitude', u'location', u'log_lat', u'new_lat', u'closed', u'failed', u'hold', u'passed', u'boiler', u'conservation', u'construction_equipment', u'demolition', u'electrical', u'elevator', u'iron', u'new_construction', u'plumbing', u'refrigeration', u'signs', u'special_inspection_program', u'special_task_force', u'ventilation', u'water', u'complied', u'no_entry', u'open'], dtype='object')"
      ]
     },
     "execution_count": 47,
     "metadata": {},
     "output_type": "execute_result"
    }
   ],
   "source": [
    "df.columns"
   ]
  },
  {
   "cell_type": "markdown",
   "metadata": {},
   "source": [
    "##Create dummies for date ranges\n",
    "\n",
    "We may want to create dummies for date ranges (for example, monthly indicators). This is piece of cake with a datetime column. "
   ]
  },
  {
   "cell_type": "markdown",
   "metadata": {},
   "source": [
    "Create features for buildings\n",
    "- start with a groupby\n",
    "Create cumulative sum\n",
    "Create indicator for "
   ]
  },
  {
   "cell_type": "code",
   "execution_count": 50,
   "metadata": {
    "collapsed": false
   },
   "outputs": [
    {
     "data": {
      "text/plain": [
       "FAILED    38371\n",
       "PASSED     6426\n",
       "dtype: int64"
      ]
     },
     "execution_count": 50,
     "metadata": {},
     "output_type": "execute_result"
    }
   ],
   "source": [
    "df_new = df[(df.failed==1) | (df.passed==1)]\n",
    "pd.value_counts(df_new.inspection_status)"
   ]
  },
  {
   "cell_type": "code",
   "execution_count": 53,
   "metadata": {
    "collapsed": false
   },
   "outputs": [],
   "source": [
    "##write data \n",
    "df_new.to_csv('/Users/matthewgee/dssg/data-challenges/BuildingInspections/data/Building_Violations_50000_features_and_labels.csv')"
   ]
  },
  {
   "cell_type": "code",
   "execution_count": null,
   "metadata": {
    "collapsed": true
   },
   "outputs": [],
   "source": []
  }
 ],
 "metadata": {
  "kernelspec": {
   "display_name": "Python 2",
   "language": "python",
   "name": "python2"
  },
  "language_info": {
   "codemirror_mode": {
    "name": "ipython",
    "version": 2
   },
   "file_extension": ".py",
   "mimetype": "text/x-python",
   "name": "python",
   "nbconvert_exporter": "python",
   "pygments_lexer": "ipython2",
   "version": "2.7.9"
  }
 },
 "nbformat": 4,
 "nbformat_minor": 0
}
