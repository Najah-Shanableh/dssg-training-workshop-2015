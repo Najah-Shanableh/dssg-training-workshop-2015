{
 "cells": [
  {
   "cell_type": "markdown",
   "metadata": {},
   "source": [
    "#The Data Science Project Lifecycle\n",
    "\n",
    "Every data project \n",
    "\n",
    "\n",
    "- Understanding the problem & defining the question\n",
    "- Data acquisition\n",
    "- Building the data pipeline\n",
    "- Data munging & reshaping\n",
    "- Exploring data\n",
    "- Feature generation\n",
    "- Defining test and training sets\n",
    "- Building models\n",
    "- Evaluating models\n",
    "- Rinse and repeat\n",
    "- Visualizing & communicating results\n",
    "- Documenting code, data, and outcomes\n"
   ]
  }
 ],
 "metadata": {
  "kernelspec": {
   "display_name": "Python 2",
   "language": "python",
   "name": "python2"
  },
  "language_info": {
   "codemirror_mode": {
    "name": "ipython",
    "version": 2
   },
   "file_extension": ".py",
   "mimetype": "text/x-python",
   "name": "python",
   "nbconvert_exporter": "python",
   "pygments_lexer": "ipython2",
   "version": "2.7.9"
  }
 },
 "nbformat": 4,
 "nbformat_minor": 0
}
