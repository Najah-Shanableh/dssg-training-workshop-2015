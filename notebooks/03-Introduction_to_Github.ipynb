{
 "cells": [
  {
   "cell_type": "markdown",
   "metadata": {},
   "source": [
    "#Learning Module 3: Introduction to Collaborative Coding with Git and Github\n",
    "\n",
    "Git is a popular and incredibly useful version control software created by famed software developer (and father of Linux), Linus Torvalds. \n",
    "\n",
    "Github (Facebook for programmers), provides an incredibly powerful and user-friendly platform for working on collaborative projects using git.\n",
    "\n",
    "We're going to learn how to use both of them.\n",
    "\n",
    "##Goals\n",
    "\n",
    "- Be familiar with how to work in data science teams\n",
    "- Be familiar with how to use github\n",
    "- Learn by open source and open science are important to DSSG\n",
    "\n",
    "##Requirements\n",
    "\n",
    "- Install git on your machine\n",
    "- Sign up for a github account\n",
    "\n",
    "##Tasks\n",
    "\n",
    "- Talk about strengths and weaknesses among team\n",
    "- Talk about how you like to work and how you like to be helped\n",
    "- Set up a github account\n",
    "- Select one team member who will create a public project repo on their personal account\n",
    "- Add link to your team's project github repository in the notes below\n",
    "- Create initial README for describing project and process\n",
    "- All team members are added as contributors to repo\n",
    "- All team members clone repo\n",
    "- Have team member make an edit to the readme\n",
    "- Commit your change \n",
    "- Push to Github\n",
    "- Set up basic file structure for project"
   ]
  },
  {
   "cell_type": "markdown",
   "metadata": {},
   "source": [
    "#Essential Git Commands\n",
    "[csvkit](http://csvkit.readthedocs.org/) helps you manipulate data files at the command line\n",
    "```\n",
    "git init\n",
    "git config\n",
    "git help\n",
    "git status\n",
    "git add\n",
    "git commit\n",
    "git branch\n",
    "git checkout\n",
    "git merge\n",
    "git push\n",
    "git pull\n",
    "```\n"
   ]
  },
  {
   "cell_type": "markdown",
   "metadata": {},
   "source": [
    "##Gitting Started: Install and Configure Git\n",
    "\n",
    "You need to make sure git is on your machine. You can check by typing\n",
    "\n",
    "```\n",
    "git --version\n",
    "```\n",
    "\n",
    "If you get an error, git isn't installed. To install it, you'll go [here](http://git-scm.com/downloads).\n",
    "\n",
    "Next you'll want to configure git.\n"
   ]
  },
  {
   "cell_type": "markdown",
   "metadata": {},
   "source": [
    "##Creating a New Repository on Github\n",
    "\n",
    "Now that we have git install on our machines and we have Github accounts, it's time to create a new repository. You can do this by signing in to github, navigating to your main profile page, clicking on the \"Repositories\" tab, and clicking on the big green button that says \"New\", or on the plus icon in the top right of the page.\n",
    "\n",
    "![Creating a new github repository](https://help.github.com/assets/images/help/repository/repo-create.png)"
   ]
  },
  {
   "cell_type": "markdown",
   "metadata": {},
   "source": []
  }
 ],
 "metadata": {
  "kernelspec": {
   "display_name": "Python 2",
   "language": "python",
   "name": "python2"
  },
  "language_info": {
   "codemirror_mode": {
    "name": "ipython",
    "version": 2
   },
   "file_extension": ".py",
   "mimetype": "text/x-python",
   "name": "python",
   "nbconvert_exporter": "python",
   "pygments_lexer": "ipython2",
   "version": "2.7.9"
  }
 },
 "nbformat": 4,
 "nbformat_minor": 0
}
