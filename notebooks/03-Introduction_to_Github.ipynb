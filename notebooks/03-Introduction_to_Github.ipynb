{
 "cells": [
  {
   "cell_type": "markdown",
   "metadata": {},
   "source": [
    "#Learning Module 3: Introduction to Collaborative Coding with Git and Github\n",
    "\n",
    "Git is a popular and incredibly useful version control software created by famed software developer (and father of Linux), Linus Torvalds. \n",
    "\n",
    "Github (Facebook for programmers), provides an incredibly powerful and user-friendly platform for working on collaborative projects using git.\n",
    "\n",
    "We're going to learn how to use both of them.\n",
    "\n",
    "##Goals\n",
    "\n",
    "- Be familiar with how to work in data science teams\n",
    "- Be familiar with how to use github\n",
    "- Learn by open source and open science are important to DSSG\n",
    "\n",
    "##Requirements\n",
    "\n",
    "- Install git on your machine\n",
    "- Sign up for a github account\n",
    "\n",
    "##Tasks\n",
    "\n",
    "- Talk about strengths and weaknesses among team\n",
    "- Talk about how you like to work and how you like to be helped\n",
    "- Set up a github account\n",
    "- Select one team member who will create a public project repo on their personal account\n",
    "- Add link to your team's project github repository in the notes below\n",
    "- Create initial README for describing project and process\n",
    "- All team members are added as contributors to repo\n",
    "- All team members clone repo\n",
    "- Have team member make an edit to the readme\n",
    "- Commit your change \n",
    "- Push to Gitbhub\n",
    "- Set up basic file structure for project"
   ]
  },
  {
   "cell_type": "markdown",
   "metadata": {},
   "source": [
    "#Essential Git Commands\n",
    "\n",
    "```\n",
    "git init\n",
    "git config\n",
    "git help\n",
    "git status\n",
    "git add\n",
    "git commit\n",
    "git branch\n",
    "git checkout\n",
    "git merge\n",
    "git push\n",
    "git pull\n",
    "```\n"
   ]
  },
  {
   "cell_type": "markdown",
   "metadata": {},
   "source": [
    "##Gitting Started: Install and Configure Git\n",
    "\n",
    "You need to make sure git is on your machine. You can check by typing\n",
    "\n",
    "```\n",
    "git --version\n",
    "```\n",
    "\n",
    "If you get an error, git isn't installed. To install it, you'll go [here](http://git-scm.com/downloads).\n",
    "\n",
    "Next you'll want to configure git. \n",
    "\n",
    "```\n",
    "git config --global user.name \"Your Name Here\"\n",
    "git config --global user.email \"your_email@youremail.com\"\n",
    "```\n"
   ]
  },
  {
   "cell_type": "markdown",
   "metadata": {},
   "source": [
    "##Creating a New Repository on Github\n",
    "\n",
    "Now that we have git install on our machines and we have Github accounts, it's time to create a new repository. You can do this by signing in to github, navigating to your main profile page, clicking on the \"Repositories\" tab, and clicking on the big green button that says \"New\", or on the plus icon in the top right of the page.\n",
    "\n",
    "![Creating a new github repository](https://help.github.com/assets/images/help/repository/repo-create.png)\n",
    "\n",
    "Now name your repository something clever like \"project-inspector-gadget\" and initiate a public repository with a README.md file."
   ]
  },
  {
   "cell_type": "markdown",
   "metadata": {},
   "source": [
    "##Cloning Your Repository\n",
    "\n",
    "The easiest way to connect a local repository to a remote repository on Github is by cloning it. To do this, copy the url in the \"HTTPS clone URL\" box\n",
    "![Clone the repository](https://help.github.com/assets/images/help/repository/remotes-url.png)\n",
    "\n",
    "Now go to the command line, change to a directory that you want to store your repository in, and use the `git clone` command to clone the repository.\n",
    "\n",
    "```\n",
    "cd ~/dssg\n",
    "git clone https://github.com/matthewgee/project-superman.git\n",
    "```\n",
    "\n",
    "You can see that the project is now in the repository"
   ]
  },
  {
   "cell_type": "markdown",
   "metadata": {},
   "source": [
    "##Making changes to your code locally\n",
    "\n",
    "Now we're going to update the README.md file with a project desciption and team names. Open up the README.md file in your favorite text editor, add your project description and your team names, and save it.\n",
    "\n",
    "If you're new to markdown, check out the documentation [here](http://daringfireball.net/projects/markdown/syntax)\n"
   ]
  },
  {
   "cell_type": "markdown",
   "metadata": {},
   "source": [
    "##Checking the status of your repository\n",
    "\n",
    "It's useful to see the state of you repository. To do this, we can use `git status`\n",
    "\n",
    "```\n",
    "git status\n",
    "```\n",
    "\n",
    "Notice that there are now unstaged changes."
   ]
  },
  {
   "cell_type": "markdown",
   "metadata": {},
   "source": [
    "##Staging changes to commit\n",
    "\n",
    "We need to stage files to commit. We do this by using `git add`\n",
    "\n",
    "```\n",
    "git add README.md\n",
    "```\n",
    "\n",
    "If you've made a lot of changes, you can add them all by using `git add .`\n",
    "\n"
   ]
  },
  {
   "cell_type": "markdown",
   "metadata": {},
   "source": [
    "##Committing \n",
    "\n",
    "We now need to commit our changes using `git commit`. You have to add a message when you commit. These should be short but informative. A lot of people like to use active tense (\"update index.html\" rather than \"updated index.html\").\n",
    "\n",
    "```\n",
    "git commit -m 'update README.md with project description and names'\n",
    "```\n",
    "\n",
    "These changes are now committed locally! But if you go the the repo on github, nothing has changed. How do we ensure changes get pushed up to the magic cloud?"
   ]
  },
  {
   "cell_type": "markdown",
   "metadata": {},
   "source": [
    "##Pulling and Pushing \n",
    "\n",
    "We can use the `git pull` and `git push` to keep our local repos in sync with the repository on github. \n",
    "\n",
    "To make sure any new commits that have been made to the remote repository, use `git pull`.\n",
    "\n",
    "```\n",
    "git pull\n",
    "```\n",
    "\n",
    "Notice that everything is up to day.\n",
    "\n",
    "To send your latest local commit(s), use `git push`.\n",
    "\n",
    "```\n",
    "git push\n",
    "```\n",
    "\n",
    "Now look at the repository on github. It should include your changes to the repository!\n"
   ]
  },
  {
   "cell_type": "markdown",
   "metadata": {},
   "source": [
    "##Diving deeping into git\n",
    "\n",
    "The above steps cover 90% of the work you will do with git. But it doesn't cover everything. For a deeper dive, see Software Carpentry's [excellent git resources.](http://swcarpentry.github.io/git-novice/)"
   ]
  },
  {
   "cell_type": "markdown",
   "metadata": {},
   "source": []
  }
 ],
 "metadata": {
  "kernelspec": {
   "display_name": "Python 2",
   "language": "python",
   "name": "python2"
  },
  "language_info": {
   "codemirror_mode": {
    "name": "ipython",
    "version": 2
   },
   "file_extension": ".py",
   "mimetype": "text/x-python",
   "name": "python",
   "nbconvert_exporter": "python",
   "pygments_lexer": "ipython2",
   "version": "2.7.9"
  }
 },
 "nbformat": 4,
 "nbformat_minor": 0
}
