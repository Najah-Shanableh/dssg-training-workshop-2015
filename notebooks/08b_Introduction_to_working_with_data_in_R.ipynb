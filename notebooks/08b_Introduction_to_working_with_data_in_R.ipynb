{
 "cells": [
  {
   "cell_type": "markdown",
   "metadata": {},
   "source": [
    "#Introduction to Working with Data in R: Cleaning and Munging\n",
    "\n",
    "\n",
    "###Goals\n",
    "\n",
    "- Become familiar with basic tools and methods for data munging and cleaning in R\n",
    "\n",
    "Tasks\n",
    "\n",
    "- Start an RStudio session \n",
    "- Load data from a csv into an R dataframe \n",
    "- Load data from the database into an R dataframe\n",
    "- Remove missing values\n",
    "- Fill missing values with an interpolation\n",
    " "
   ]
  },
  {
   "cell_type": "markdown",
   "metadata": {},
   "source": [
    "#Import CSV\n",
    "One of the great things about R is that it easily reads CSVs without importing packages:\n",
    "\n",
    "```\n",
    "data <- read.csv('~/Desktop/create_dssg_training_data/building_violations.csv')\n",
    "```"
   ]
  },
  {
   "cell_type": "markdown",
   "metadata": {},
   "source": [
    "#Import from Database\n",
    "The first thing we need to do is import a library that can tell R how to communicate with a Postgres server:\n",
    "```\n",
    "library('RPostgreSQL')\n",
    "```\n",
    "\n",
    "I don't want to make my password public through this notebook, so I store it in a file on my computer and read it in as a variable:\n",
    "\n",
    "```\n",
    "passwd = read.csv('~/Desktop/password.txt', header=F, stringsAsFactors=F)\n",
    "```\n",
    "\n",
    "###Establish database connection\n",
    "We need to load the driver and then create a connection object:\n",
    "```\n",
    "drv <- dbDriver('PostgreSQL')\n",
    "con <- dbConnect(drv, \n",
    "                 host = \"dssgsummer2014postgres.c5faqozfo86k.us-west-2.rds.amazonaws.com\",\n",
    "                 dbname = \"training_2015\",\n",
    "                 user = \"jwalsh\",\n",
    "                 password = passwd)\n",
    "```\n",
    "\n",
    "###Query the database\n",
    "Every time we want to interact with the Postgres database, we need to refer to `con`, the connection object. `con` \n",
    "```\n",
    "data <- dbGetQuery(con, \"SELECT * FROM jwalsh.building_permits;\")\n",
    "```\n",
    "\n",
    "###Close database connection\n",
    "```\n",
    "dbDisconnect(con)\n",
    "```"
   ]
  },
  {
   "cell_type": "markdown",
   "metadata": {},
   "source": [
    "##Viewing your dataframe\n",
    "\n",
    "Just like we did in the command line, you can use `head` and `tail` to get a view of your data:\n",
    "\n",
    "```\n",
    "head(data)\n",
    "tail(data)\n",
    "```\n",
    "\n",
    "For prettier results, wrap with `View()`, e.g. `View( head(data) )`"
   ]
  },
  {
   "cell_type": "markdown",
   "metadata": {},
   "source": [
    "We can get a sense for the size and shape of the data using `dim`:\n",
    "\n",
    "```\n",
    "dim(data)\n",
    "```"
   ]
  },
  {
   "cell_type": "markdown",
   "metadata": {},
   "source": [
    "Get a sense for the type of each column using `sapply`:\n",
    "\n",
    "```\n",
    "sapply(data, class)\n",
    "```"
   ]
  },
  {
   "cell_type": "markdown",
   "metadata": {},
   "source": [
    "There doesn't seem to be much to `SSA`. Let's get rid of it:\n",
    "\n",
    "```\n",
    "data <- data[, !(names(data) %in% 'SSA')]\n",
    "```"
   ]
  },
  {
   "cell_type": "markdown",
   "metadata": {},
   "source": [
    "Great. Now let's learn how to reference columns:\n",
    "\n",
    "```\n",
    "df$ID #this one gives tab completion\n",
    "df['ID']\n",
    "df[c('ID','VIOLATION.DATE')]\n",
    "```"
   ]
  },
  {
   "cell_type": "markdown",
   "metadata": {},
   "source": [
    "##Converting to datetime\n",
    "\n",
    "RPostgreSQL brought our date fields in as factors. Convert!\n",
    "\n",
    "```\n",
    "data$VIOLATION.DATE <- as.character(data$VIOLATION.DATE)\n",
    "data$VIOLATION.DATE <- as.Date(data$VIOLATION.DATE, format = '%m/%d/%Y')\n",
    "class(data$VIOLATION.DATE)\n",
    "head(data$VIOLATION.DATE)\n",
    "```"
   ]
  },
  {
   "cell_type": "markdown",
   "metadata": {},
   "source": [
    "##Exploring Data\n",
    "\n",
    "Lets get a better sense what these fields look like. `R`'s `summary` command does pretty well (and unlike Python's `describe`, it also summarizes non-numeric variables):\n",
    "\n",
    "```\n",
    "summary(data)\n",
    "```"
   ]
  },
  {
   "cell_type": "markdown",
   "metadata": {},
   "source": [
    "Let's see if there are missing values:\n",
    "\n",
    "```\n",
    "sum(is.na(data$VIOLATION.INSPECTOR.COMMENTS))\n",
    "```\n",
    "\n",
    "That's not right. We know there are many more. Let's take a closer look:\n",
    "\n",
    "```\n",
    "comment_breakdown <- table(data$VIOLATION.INSPECTOR.COMMENTS)\n",
    "comment_breakdown_sorted <- sort(comment_breakdown, decreasing = TRUE)\n",
    "head(comment_breakdown_sorted)\n",
    "names(comment_breakdown_sorted)[1]\n",
    "```"
   ]
  },
  {
   "cell_type": "markdown",
   "metadata": {},
   "source": [
    "There are lots of cells with an empty string but not a missing value. Fix it:\n",
    "\n",
    "```\n",
    "data$VIOLATION.INSPECTOR.COMMENTS[ data$VIOLATION.INSPECTOR.COMMENTS == '' ] <- NA\n",
    "```"
   ]
  },
  {
   "cell_type": "markdown",
   "metadata": {},
   "source": [
    "##Applying functions\n",
    "\n",
    "Often we want to apply a function to an entire column to create a new column:\n",
    "\n",
    "```\n",
    "data$log_latitude <- log(data$LATITUDE)\n",
    "head( data[c('LATITUDE', 'log_latitude')] )\n",
    "```"
   ]
  },
  {
   "cell_type": "markdown",
   "metadata": {},
   "source": [
    "Let's say we wanted to anonymize location by add noise to the latitude:\n",
    "\n",
    "```\n",
    "data$new_latitude = data$LATITUDE + rnorm( length(data$LATITUDE) )\n",
    "head(data[c('LATITUDE', 'new_latitude')])\n",
    "```"
   ]
  },
  {
   "cell_type": "code",
   "execution_count": null,
   "metadata": {
    "collapsed": true
   },
   "outputs": [],
   "source": []
  }
 ],
 "metadata": {
  "kernelspec": {
   "display_name": "Python 2",
   "language": "python",
   "name": "python2"
  },
  "language_info": {
   "codemirror_mode": {
    "name": "ipython",
    "version": 2
   },
   "file_extension": ".py",
   "mimetype": "text/x-python",
   "name": "python",
   "nbconvert_exporter": "python",
   "pygments_lexer": "ipython2",
   "version": "2.7.9"
  }
 },
 "nbformat": 4,
 "nbformat_minor": 0
}
