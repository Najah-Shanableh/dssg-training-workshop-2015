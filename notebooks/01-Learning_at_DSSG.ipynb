{
 "cells": [
  {
   "cell_type": "markdown",
   "metadata": {},
   "source": [
    "##Learning at DSSG\n",
    "\n",
    "####Here are some basic principals for training week\n",
    "\n",
    "- Individual and team learning is the only outcome that matters\n",
    "- The goal is to help each other learn, not get things done the fastest\n",
    "- If you are doing something you already know how to do by yourself, you’re not doing this right\n",
    "- Learn how to do essential tasks using standard set of tools\n",
    "- Begin to learn which tools are available\n",
    "- Rules of engagement\n",
    "- Tell your team members when you don’t know how to do something. \n",
    "- If your team member doesn’t know how to do something and you do, help them by \n",
    "- StackOverflow: If no one on your team knows how to do something, try googling.\n",
    "- DSSGOverflow: don’t spend more than 20 minutes searching for the answer online. Ask a mentor or nearby team.\n",
    "- Focus on doing tasks you don’t know how to do. Don’t take the easy route.\n",
    "- Be patient with yourself and with each other, this is not a race.\n",
    "- Pair program\n"
   ]
  }
 ],
 "metadata": {
  "kernelspec": {
   "display_name": "Python 2",
   "language": "python",
   "name": "python2"
  },
  "language_info": {
   "codemirror_mode": {
    "name": "ipython",
    "version": 2
   },
   "file_extension": ".py",
   "mimetype": "text/x-python",
   "name": "python",
   "nbconvert_exporter": "python",
   "pygments_lexer": "ipython2",
   "version": "2.7.9"
  }
 },
 "nbformat": 4,
 "nbformat_minor": 0
}
