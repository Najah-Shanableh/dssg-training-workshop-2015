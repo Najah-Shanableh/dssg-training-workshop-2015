{
 "cells": [
  {
   "cell_type": "markdown",
   "metadata": {
    "slideshow": {
     "slide_type": "slide"
    }
   },
   "source": [
    "##Learning at DSSG\n",
    "\n",
    "The primary goal of the Data Science for Social Good program is fellow training. We take learning seriously. \n",
    "\n",
    "DSSG Data Bootcamp is meant to kick of the three months of learning that is DSSG by making sure everyone can perform essential data science tasks using a common set of tools. Through project-based learning, DSSG Bootcamp will:\n",
    "\n",
    "1. Increase capacity among fellows for data-intensive work using modern open source tools, infrastructure, workflows, resources, and practices.\n",
    "\n",
    "2. Develop a strong sense of collaboration, cooperation, and peer learning among fellows, willingness to ask for help, willingness to share knowledge, and forums for sharing resources.\n",
    "\n",
    "3. Help fellows learn a bit more about the City of Chicago in the process.\n"
   ]
  },
  {
   "cell_type": "markdown",
   "metadata": {
    "slideshow": {
     "slide_type": "slide"
    }
   },
   "source": [
    "####Here are some basic principals for training week\n",
    "\n",
    "- Effortful learning is the most effective form of learning\n",
    "- Try, Ask, Try Again, Teach\n",
    "- Individual and team learning matters more than output\n",
    "- Be open with your team members when you don’t know how to do something.  \n",
    "- If your team member doesn’t know how to do something and you do, help them.\n",
    "- If you are doing something you already know how to do by yourself, you’re doing this wrong.\n",
    "- Google. Use it. It's great.\n",
    "- StackOverflow. Use it. It's greater.\n",
    "- DSSGOverflow. Ask a mentor or nearby team. They're the greatest.\n",
    "- Focus on doing tasks you don’t know how to do. Don’t take the easy route.\n",
    "- Be patient with yourself and with each other, this is not a race.\n",
    "- To improve team learning, try Mob Programming."
   ]
  },
  {
   "cell_type": "code",
   "execution_count": null,
   "metadata": {
    "collapsed": true
   },
   "outputs": [],
   "source": []
  }
 ],
 "metadata": {
  "celltoolbar": "Slideshow",
  "kernelspec": {
   "display_name": "Python 2",
   "language": "python",
   "name": "python2"
  },
  "language_info": {
   "codemirror_mode": {
    "name": "ipython",
    "version": 2
   },
   "file_extension": ".py",
   "mimetype": "text/x-python",
   "name": "python",
   "nbconvert_exporter": "python",
   "pygments_lexer": "ipython2",
   "version": "2.7.9"
  }
 },
 "nbformat": 4,
 "nbformat_minor": 0
}
