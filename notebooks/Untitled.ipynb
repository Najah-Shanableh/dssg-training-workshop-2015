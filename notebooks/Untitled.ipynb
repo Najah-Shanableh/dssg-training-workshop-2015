{
 "cells": [
  {
   "cell_type": "markdown",
   "metadata": {},
   "source": [
    "R \n",
    "\n",
    "\n",
    "#Learning Module 3: Introduction to Collaborative Coding with Git and Github\n",
    "\n",
    "Git is a popular and incredibly useful version control software created by famed software developer (and father of Linux), Linus Torvalds. \n",
    "\n",
    "Github (Facebook for programmers), provides an incredibly powerful and user-friendly platform for working on collaborative projects using git.\n",
    "\n",
    "We're going to learn how to use both of them.\n",
    "\n",
    "##Goals\n",
    "\n",
    "- Be familiar with some of the basic processes in R\n",
    "- Understand how R and Python compare on some basic operations\n",
    "\n",
    "##Requirements\n",
    "\n",
    "- R and RStudio\n",
    "\n",
    "\n",
    "##Tasks\n",
    "- Explore data with dim, summary\n",
    "- Select subsets of data using conditional statements\n",
    "- Select subsets of the data by indexing\n",
    "- Create aggregations using xtabs, aggregate, reshape\n",
    "- Plot a timeseries of violation frequency by violation type\n",
    "\n",
    "\n",
    "##Resources\n",
    "- Anything by Hadley Wickham \n",
    "- [Advanced R](http://adv-r.had.co.nz/)\n"
   ]
  },
  {
   "cell_type": "code",
   "execution_count": null,
   "metadata": {
    "collapsed": true
   },
   "outputs": [],
   "source": [
    "`xtab`: xtab()"
   ]
  }
 ],
 "metadata": {
  "kernelspec": {
   "display_name": "Python 2",
   "language": "python",
   "name": "python2"
  },
  "language_info": {
   "codemirror_mode": {
    "name": "ipython",
    "version": 2
   },
   "file_extension": ".py",
   "mimetype": "text/x-python",
   "name": "python",
   "nbconvert_exporter": "python",
   "pygments_lexer": "ipython2",
   "version": "2.7.9"
  }
 },
 "nbformat": 4,
 "nbformat_minor": 0
}
